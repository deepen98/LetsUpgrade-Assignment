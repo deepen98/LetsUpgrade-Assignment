{
  "nbformat": 4,
  "nbformat_minor": 0,
  "metadata": {
    "colab": {
      "name": "Untitled1.ipynb",
      "provenance": []
    },
    "kernelspec": {
      "name": "python3",
      "display_name": "Python 3"
    }
  },
  "cells": [
    {
      "cell_type": "code",
      "metadata": {
        "id": "SgRA3waWVSbm"
      },
      "source": [
        "# Solution 1 : RAINBOW\n"
      ],
      "execution_count": 2,
      "outputs": []
    },
    {
      "cell_type": "code",
      "metadata": {
        "id": "EfMu0dQ2WfOd",
        "outputId": "ac26ff23-a679-4cf1-f6ba-73970234f3c3",
        "colab": {
          "base_uri": "https://localhost:8080/"
        }
      },
      "source": [
        "#2\n",
        "print (\"LETS UPGRADE\")"
      ],
      "execution_count": 8,
      "outputs": [
        {
          "output_type": "stream",
          "text": [
            "LETS UPGRADE\n"
          ],
          "name": "stdout"
        }
      ]
    },
    {
      "cell_type": "code",
      "metadata": {
        "id": "u1ENc35hWwsK",
        "outputId": "8766b624-232b-4da8-cad0-b936612443bf",
        "colab": {
          "base_uri": "https://localhost:8080/"
        }
      },
      "source": [
        "#3\n",
        "cp= input()\n",
        "sp= input()\n",
        "if (sp>cp):\n",
        "  print (\"Profit\")\n",
        "elif (cp>sp):\n",
        "  print(\"Loss\")\n",
        "else:\n",
        "  print (\"Neither\") \n"
      ],
      "execution_count": 15,
      "outputs": [
        {
          "output_type": "stream",
          "text": [
            "19\n",
            "19\n",
            "Neither\n"
          ],
          "name": "stdout"
        }
      ]
    },
    {
      "cell_type": "code",
      "metadata": {
        "id": "2Ck6z7BhsOZ-",
        "outputId": "5923185e-bf8e-4698-a5cf-24e12f23062a",
        "colab": {
          "base_uri": "https://localhost:8080/"
        }
      },
      "source": [
        "#4\n",
        "eu=float (input())\n",
        "inr=eu*80\n",
        "print(inr)"
      ],
      "execution_count": 18,
      "outputs": [
        {
          "output_type": "stream",
          "text": [
            "72\n",
            "5760.0\n"
          ],
          "name": "stdout"
        }
      ]
    }
  ]
}